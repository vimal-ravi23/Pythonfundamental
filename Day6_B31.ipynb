{
 "cells": [
  {
   "cell_type": "code",
   "execution_count": null,
   "metadata": {},
   "outputs": [],
   "source": [
    "Introduction to Looping Statement"
   ]
  },
  {
   "cell_type": "code",
   "execution_count": 2,
   "metadata": {},
   "outputs": [
    {
     "name": "stdout",
     "output_type": "stream",
     "text": [
      "['vimal', 'arun', 'balu', 'ramu']\n"
     ]
    }
   ],
   "source": [
    "students=['vimal','arun','balu','ramu']\n",
    "print(students)"
   ]
  },
  {
   "cell_type": "code",
   "execution_count": 3,
   "metadata": {},
   "outputs": [
    {
     "data": {
      "text/plain": [
       "list"
      ]
     },
     "execution_count": 3,
     "metadata": {},
     "output_type": "execute_result"
    }
   ],
   "source": [
    "type(students)"
   ]
  },
  {
   "cell_type": "code",
   "execution_count": null,
   "metadata": {},
   "outputs": [],
   "source": [
    "Req: i want to apreciate each and everyone students in the above list for submitting their work regularly"
   ]
  },
  {
   "cell_type": "code",
   "execution_count": 5,
   "metadata": {},
   "outputs": [
    {
     "name": "stdout",
     "output_type": "stream",
     "text": [
      "keep up the good work,Vimal\n"
     ]
    }
   ],
   "source": [
    "print(f'keep up the good work,{students[0].title()}')"
   ]
  },
  {
   "cell_type": "code",
   "execution_count": null,
   "metadata": {},
   "outputs": [],
   "source": [
    "We cant able to send one by one it s a high time consumption process to \n",
    "eliminate these time Implementation of# For loop method is listed"
   ]
  },
  {
   "cell_type": "code",
   "execution_count": null,
   "metadata": {},
   "outputs": [],
   "source": [
    "#General Syntax for FOR loop "
   ]
  },
  {
   "cell_type": "code",
   "execution_count": null,
   "metadata": {},
   "outputs": [],
   "source": [
    "# this is the below formula for FOR loop"
   ]
  },
  {
   "cell_type": "code",
   "execution_count": null,
   "metadata": {},
   "outputs": [],
   "source": [
    "for temp variable in main variable: \n",
    "    print(temp variable)  # this gap is called as indentation"
   ]
  },
  {
   "cell_type": "code",
   "execution_count": null,
   "metadata": {},
   "outputs": [],
   "source": [
    "#Implementation Part"
   ]
  },
  {
   "cell_type": "code",
   "execution_count": 6,
   "metadata": {},
   "outputs": [
    {
     "name": "stdout",
     "output_type": "stream",
     "text": [
      "keep up the good work,Vimal\n",
      "keep up the good work,Arun\n",
      "keep up the good work,Balu\n",
      "keep up the good work,Ramu\n"
     ]
    }
   ],
   "source": [
    "for x in students:\n",
    "    print(f'keep up the good work,{x.title()}')"
   ]
  },
  {
   "cell_type": "code",
   "execution_count": 10,
   "metadata": {},
   "outputs": [
    {
     "name": "stdout",
     "output_type": "stream",
     "text": [
      "keep up the good work,Vimal\n",
      "keep up the good work,Arun\n",
      "keep up the good work,Balu\n",
      "keep up the good work,Ramu\n"
     ]
    }
   ],
   "source": [
    "for a in students:\n",
    "    print(f'keep up the good work,{a.title()}')"
   ]
  },
  {
   "cell_type": "code",
   "execution_count": 11,
   "metadata": {},
   "outputs": [
    {
     "name": "stdout",
     "output_type": "stream",
     "text": [
      "keep up the good work,Vimal\n",
      "i am looking forward to receive all your practise file regularly,Vimal\n",
      "keep up the good work,Arun\n",
      "i am looking forward to receive all your practise file regularly,Arun\n",
      "keep up the good work,Balu\n",
      "i am looking forward to receive all your practise file regularly,Balu\n",
      "keep up the good work,Ramu\n",
      "i am looking forward to receive all your practise file regularly,Ramu\n"
     ]
    }
   ],
   "source": [
    "for a in students:\n",
    "    print(f'keep up the good work,{a.title()}')\n",
    "    print(f'i am looking forward to receive all your practise file regularly,{a.title()}')"
   ]
  },
  {
   "cell_type": "code",
   "execution_count": null,
   "metadata": {},
   "outputs": [],
   "source": [
    "Req: i want to thank all for joining in the class....!"
   ]
  },
  {
   "cell_type": "code",
   "execution_count": 12,
   "metadata": {},
   "outputs": [
    {
     "name": "stdout",
     "output_type": "stream",
     "text": [
      "keep up the good work,Vimal\n",
      "i am looking forward to receive all your practise file regularly,Vimal\n",
      "keep up the good work,Arun\n",
      "i am looking forward to receive all your practise file regularly,Arun\n",
      "keep up the good work,Balu\n",
      "i am looking forward to receive all your practise file regularly,Balu\n",
      "keep up the good work,Ramu\n",
      "i am looking forward to receive all your practise file regularly,Ramu\n",
      "Thank you all for Attending the class regularly\n"
     ]
    }
   ],
   "source": [
    "for a in students:\n",
    "    print(f'keep up the good work,{a.title()}')\n",
    "    print(f'i am looking forward to receive all your practise file regularly,{a.title()}')\n",
    "print(f'Thank you all for Attending the class regularly')"
   ]
  },
  {
   "cell_type": "code",
   "execution_count": null,
   "metadata": {},
   "outputs": [],
   "source": []
  },
  {
   "cell_type": "code",
   "execution_count": null,
   "metadata": {},
   "outputs": [],
   "source": [
    "Organising the list "
   ]
  },
  {
   "cell_type": "code",
   "execution_count": null,
   "metadata": {},
   "outputs": [],
   "source": [
    "students=['vimal','arun','balu','ramu']"
   ]
  },
  {
   "cell_type": "code",
   "execution_count": null,
   "metadata": {},
   "outputs": [],
   "source": [
    "Req: i want to know the total coun of the students----?"
   ]
  },
  {
   "cell_type": "code",
   "execution_count": 13,
   "metadata": {},
   "outputs": [
    {
     "data": {
      "text/plain": [
       "4"
      ]
     },
     "execution_count": 13,
     "metadata": {},
     "output_type": "execute_result"
    }
   ],
   "source": [
    "len(students) # it will give the count of the students"
   ]
  },
  {
   "cell_type": "code",
   "execution_count": null,
   "metadata": {},
   "outputs": [],
   "source": []
  }
 ],
 "metadata": {
  "kernelspec": {
   "display_name": "Python 3",
   "language": "python",
   "name": "python3"
  },
  "language_info": {
   "codemirror_mode": {
    "name": "ipython",
    "version": 3
   },
   "file_extension": ".py",
   "mimetype": "text/x-python",
   "name": "python",
   "nbconvert_exporter": "python",
   "pygments_lexer": "ipython3",
   "version": "3.8.5"
  }
 },
 "nbformat": 4,
 "nbformat_minor": 4
}
